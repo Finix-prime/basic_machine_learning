{
 "cells": [
  {
   "cell_type": "markdown",
   "id": "f7d3604d",
   "metadata": {},
   "source": [
    "Bean Disease Classifier\n",
    "For this assignment you'll take what you've learned so far and build a classifier for bean disease. You'll be provided with training and validation data based on 224x224 pixel color images taken of bean plants in Uganda. These images show healthy bean leaves as well as 2 types of common disease: bean rust and angular leaf spots. Your job will be to build a neural network that can tell the difference between the healthy and diseased leaves."
   ]
  },
  {
   "cell_type": "code",
   "execution_count": 1,
   "id": "f346a04e",
   "metadata": {},
   "outputs": [
    {
     "name": "stdout",
     "output_type": "stream",
     "text": [
      "Collecting gdown\n",
      "  Downloading gdown-4.4.0.tar.gz (14 kB)\n",
      "  Installing build dependencies ... \u001b[?25ldone\n",
      "\u001b[?25h  Getting requirements to build wheel ... \u001b[?25ldone\n",
      "\u001b[?25h  Preparing metadata (pyproject.toml) ... \u001b[?25ldone\n",
      "\u001b[?25hRequirement already satisfied: requests[socks] in /Users/finix/miniforge3/envs/env_tf/lib/python3.8/site-packages (from gdown) (2.27.1)\n",
      "Collecting filelock\n",
      "  Downloading filelock-3.7.0-py3-none-any.whl (10 kB)\n",
      "Collecting tqdm\n",
      "  Downloading tqdm-4.64.0-py2.py3-none-any.whl (78 kB)\n",
      "\u001b[2K     \u001b[90m━━━━━━━━━━━━━━━━━━━━━━━━━━━━━━━━━━━━━━━━\u001b[0m \u001b[32m78.4/78.4 kB\u001b[0m \u001b[31m1.0 MB/s\u001b[0m eta \u001b[36m0:00:00\u001b[0ma \u001b[36m0:00:01\u001b[0m\n",
      "\u001b[?25hRequirement already satisfied: six in /Users/finix/miniforge3/envs/env_tf/lib/python3.8/site-packages (from gdown) (1.16.0)\n",
      "Requirement already satisfied: beautifulsoup4 in /Users/finix/miniforge3/envs/env_tf/lib/python3.8/site-packages (from gdown) (4.11.1)\n",
      "Requirement already satisfied: soupsieve>1.2 in /Users/finix/miniforge3/envs/env_tf/lib/python3.8/site-packages (from beautifulsoup4->gdown) (2.3.1)\n",
      "Requirement already satisfied: urllib3<1.27,>=1.21.1 in /Users/finix/miniforge3/envs/env_tf/lib/python3.8/site-packages (from requests[socks]->gdown) (1.26.9)\n",
      "Requirement already satisfied: idna<4,>=2.5 in /Users/finix/miniforge3/envs/env_tf/lib/python3.8/site-packages (from requests[socks]->gdown) (3.3)\n",
      "Requirement already satisfied: certifi>=2017.4.17 in /Users/finix/miniforge3/envs/env_tf/lib/python3.8/site-packages (from requests[socks]->gdown) (2022.5.18.1)\n",
      "Requirement already satisfied: charset-normalizer~=2.0.0 in /Users/finix/miniforge3/envs/env_tf/lib/python3.8/site-packages (from requests[socks]->gdown) (2.0.12)\n",
      "Requirement already satisfied: PySocks!=1.5.7,>=1.5.6 in /Users/finix/miniforge3/envs/env_tf/lib/python3.8/site-packages (from requests[socks]->gdown) (1.7.1)\n",
      "Building wheels for collected packages: gdown\n",
      "  Building wheel for gdown (pyproject.toml) ... \u001b[?25ldone\n",
      "\u001b[?25h  Created wheel for gdown: filename=gdown-4.4.0-py3-none-any.whl size=14759 sha256=1004fe6c6bc0b82e437299721cabb029248a3c1592f88284b49544324f6b1c25\n",
      "  Stored in directory: /private/var/folders/30/66nftws918j8q599wpzqpflm0000gn/T/pip-ephem-wheel-cache-gojd3t80/wheels/7b/7b/5d/656f46cd6889e4c93977be9586901d0adc1271b2d876c84c96\n",
      "Successfully built gdown\n",
      "Installing collected packages: tqdm, filelock, gdown\n",
      "Successfully installed filelock-3.7.0 gdown-4.4.0 tqdm-4.64.0\n"
     ]
    }
   ],
   "source": [
    "!pip install --upgrade --no-cache-dir gdown"
   ]
  },
  {
   "cell_type": "code",
   "execution_count": 2,
   "id": "dfe76c6a",
   "metadata": {},
   "outputs": [
    {
     "name": "stdout",
     "output_type": "stream",
     "text": [
      "Downloading...\n",
      "From: https://drive.google.com/uc?export=download&id=1jSiS-2Wy0AaOg7F7trgAG-KtnVGm2oTb\n",
      "To: /tmp/train.zip\n",
      "100%|█████████████████████████████████████████| 144M/144M [04:20<00:00, 552kB/s]\n",
      "Downloading...\n",
      "From: https://drive.google.com/uc?export=download&id=17zP0BYyYBqCgSpYqXjYhikjBVpkxmq8k\n",
      "To: /tmp/validation.zip\n",
      "100%|██████████████████████████████████████| 18.5M/18.5M [00:16<00:00, 1.12MB/s]\n",
      "Downloading...\n",
      "From: https://drive.google.com/uc?export=download&id=17TzNBWdjWGgVRyy7cHMzFWrOXvIhRz6m\n",
      "To: /tmp/test.zip\n",
      "100%|██████████████████████████████████████| 17.7M/17.7M [00:17<00:00, 1.00MB/s]\n"
     ]
    }
   ],
   "source": [
    "!gdown \"https://drive.google.com/uc?export=download&id=1jSiS-2Wy0AaOg7F7trgAG-KtnVGm2oTb\" -O /tmp/train.zip\n",
    "!gdown \"https://drive.google.com/uc?export=download&id=17zP0BYyYBqCgSpYqXjYhikjBVpkxmq8k\" -O /tmp/validation.zip\n",
    "!gdown \"https://drive.google.com/uc?export=download&id=17TzNBWdjWGgVRyy7cHMzFWrOXvIhRz6m\" -O /tmp/test.zip"
   ]
  },
  {
   "cell_type": "code",
   "execution_count": 3,
   "id": "c3fe1989",
   "metadata": {},
   "outputs": [],
   "source": [
    "import os\n",
    "import zipfile\n",
    "\n",
    "local_zip = '/tmp/train.zip'\n",
    "zip_ref = zipfile.ZipFile(local_zip, 'r')\n",
    "zip_ref.extractall('/tmp')\n",
    "local_zip = '/tmp/validation.zip'\n",
    "zip_ref = zipfile.ZipFile(local_zip, 'r')\n",
    "zip_ref.extractall('/tmp')\n",
    "local_zip = '/tmp/test.zip'\n",
    "zip_ref = zipfile.ZipFile(local_zip, 'r')\n",
    "zip_ref.extractall('/tmp/test')\n",
    "zip_ref.close()"
   ]
  },
  {
   "cell_type": "code",
   "execution_count": 8,
   "id": "525b91b6",
   "metadata": {},
   "outputs": [
    {
     "name": "stdout",
     "output_type": "stream",
     "text": [
      "Found 1034 images belonging to 3 classes.\n",
      "Found 133 images belonging to 3 classes.\n"
     ]
    }
   ],
   "source": [
    "from tensorflow.keras.preprocessing.image import ImageDataGenerator\n",
    "\n",
    "train_datagen = ImageDataGenerator(\n",
    "      rescale=1./255,\n",
    "      rotation_range=40,\n",
    "      width_shift_range=0.2,\n",
    "      height_shift_range=0.2,\n",
    "      shear_range=0.2,\n",
    "      zoom_range=0.2,\n",
    "      horizontal_flip=True,\n",
    "      fill_mode='nearest'\n",
    ")\n",
    "\n",
    "validation_datagen = ImageDataGenerator(\n",
    "      rescale=1./255,\n",
    "      rotation_range=40,\n",
    "      width_shift_range=0.2,\n",
    "      height_shift_range=0.2,\n",
    "      shear_range=0.2,\n",
    "      zoom_range=0.2,\n",
    "      horizontal_flip=True,\n",
    "      fill_mode='nearest'\n",
    ")\n",
    "\n",
    "TRAIN_DIRECTORY_LOCATION = '/tmp/train'\n",
    "VAL_DIRECTORY_LOCATION = '/tmp/validation'\n",
    "TARGET_SIZE = (224, 224)\n",
    "CLASS_MODE = 'categorical'\n",
    "\n",
    "train_generator = train_datagen.flow_from_directory(\n",
    "    TRAIN_DIRECTORY_LOCATION,\n",
    "    target_size = TARGET_SIZE,  \n",
    "    batch_size = 128,\n",
    "    class_mode = CLASS_MODE\n",
    ")\n",
    "\n",
    "validation_generator = validation_datagen.flow_from_directory(\n",
    "    VAL_DIRECTORY_LOCATION,\n",
    "    target_size = TARGET_SIZE,  \n",
    "    batch_size = 128,\n",
    "    class_mode = CLASS_MODE\n",
    ")"
   ]
  },
  {
   "cell_type": "markdown",
   "id": "89e52aa2",
   "metadata": {},
   "source": [
    "Like with the CIFAR-10 assignment, your model may want to learn some high level features and then classify them. This time it may help to make the model a little wider at times."
   ]
  },
  {
   "cell_type": "code",
   "execution_count": 9,
   "id": "fe097eaf",
   "metadata": {},
   "outputs": [
    {
     "name": "stdout",
     "output_type": "stream",
     "text": [
      "Model: \"sequential_1\"\n",
      "_________________________________________________________________\n",
      " Layer (type)                Output Shape              Param #   \n",
      "=================================================================\n",
      " conv2d_4 (Conv2D)           (None, 222, 222, 32)      896       \n",
      "                                                                 \n",
      " max_pooling2d_4 (MaxPooling  (None, 111, 111, 32)     0         \n",
      " 2D)                                                             \n",
      "                                                                 \n",
      " conv2d_5 (Conv2D)           (None, 109, 109, 64)      18496     \n",
      "                                                                 \n",
      " max_pooling2d_5 (MaxPooling  (None, 54, 54, 64)       0         \n",
      " 2D)                                                             \n",
      "                                                                 \n",
      " conv2d_6 (Conv2D)           (None, 52, 52, 128)       73856     \n",
      "                                                                 \n",
      " max_pooling2d_6 (MaxPooling  (None, 26, 26, 128)      0         \n",
      " 2D)                                                             \n",
      "                                                                 \n",
      " conv2d_7 (Conv2D)           (None, 24, 24, 256)       295168    \n",
      "                                                                 \n",
      " max_pooling2d_7 (MaxPooling  (None, 12, 12, 256)      0         \n",
      " 2D)                                                             \n",
      "                                                                 \n",
      " flatten_1 (Flatten)         (None, 36864)             0         \n",
      "                                                                 \n",
      " dense_3 (Dense)             (None, 512)               18874880  \n",
      "                                                                 \n",
      " dropout_2 (Dropout)         (None, 512)               0         \n",
      "                                                                 \n",
      " dense_4 (Dense)             (None, 256)               131328    \n",
      "                                                                 \n",
      " dropout_3 (Dropout)         (None, 256)               0         \n",
      "                                                                 \n",
      " dense_5 (Dense)             (None, 3)                 771       \n",
      "                                                                 \n",
      "=================================================================\n",
      "Total params: 19,395,395\n",
      "Trainable params: 19,395,395\n",
      "Non-trainable params: 0\n",
      "_________________________________________________________________\n"
     ]
    }
   ],
   "source": [
    "import tensorflow as tf\n",
    "model = tf.keras.models.Sequential([\n",
    "    tf.keras.layers.Conv2D(32, (3,3), activation='relu', input_shape=(224, 224, 3)),\n",
    "    tf.keras.layers.MaxPooling2D(2, 2),\n",
    "    tf.keras.layers.Conv2D(64, (3,3), activation='relu'),\n",
    "    tf.keras.layers.MaxPooling2D(2,2),\n",
    "    tf.keras.layers.Conv2D(128, (3,3), activation='relu'),\n",
    "    tf.keras.layers.MaxPooling2D(2,2),\n",
    "    tf.keras.layers.Conv2D(256, (3,3), activation='relu'),\n",
    "    tf.keras.layers.MaxPooling2D(2,2),\n",
    "    tf.keras.layers.Flatten(),\n",
    "    tf.keras.layers.Dense(512, activation='relu'),\n",
    "    tf.keras.layers.Dropout(0.1),\n",
    "    tf.keras.layers.Dense(256, activation='relu'),\n",
    "    tf.keras.layers.Dropout(0.1),\n",
    "    tf.keras.layers.Dense(3, activation='softmax')\n",
    "])\n",
    "\n",
    "# This will print a summary of your model when you're done!\n",
    "model.summary()"
   ]
  },
  {
   "cell_type": "markdown",
   "id": "c9e5b9ed",
   "metadata": {},
   "source": [
    "Then you'll need to pick an appropriate loss function and optimizer.\n",
    "\n",
    "A hint: remember we are classifying again."
   ]
  },
  {
   "cell_type": "code",
   "execution_count": 10,
   "id": "89c3a4d7",
   "metadata": {},
   "outputs": [],
   "source": [
    "# from tensorflow.keras.optimizers import RMSprop\n",
    "# OPTIMIZER = RMSprop(lr=0.0001)\n",
    "\n",
    "from tensorflow.keras.optimizers import Adam\n",
    "OPTIMIZER = Adam(lr=0.001)\n",
    "\n",
    "LOSS_FUNCTION = 'categorical_crossentropy'\n",
    "\n",
    "model.compile(\n",
    "    loss = LOSS_FUNCTION,\n",
    "    optimizer = OPTIMIZER,\n",
    "    metrics = ['accuracy']\n",
    ")"
   ]
  },
  {
   "cell_type": "markdown",
   "id": "94be720e",
   "metadata": {},
   "source": [
    "Finally select the number of epochs you'd like to train for and train your model!\n",
    "\n",
    "A hint: something in the low tens is a good place to start\n"
   ]
  },
  {
   "cell_type": "code",
   "execution_count": 11,
   "id": "ea370093",
   "metadata": {},
   "outputs": [
    {
     "name": "stdout",
     "output_type": "stream",
     "text": [
      "Epoch 1/20\n"
     ]
    },
    {
     "name": "stderr",
     "output_type": "stream",
     "text": [
      "2022-05-31 12:21:45.884155: I tensorflow/core/grappler/optimizers/custom_graph_optimizer_registry.cc:113] Plugin optimizer for device_type GPU is enabled.\n"
     ]
    },
    {
     "name": "stdout",
     "output_type": "stream",
     "text": [
      "9/9 [==============================] - ETA: 0s - loss: 1.2511 - accuracy: 0.3752"
     ]
    },
    {
     "name": "stderr",
     "output_type": "stream",
     "text": [
      "2022-05-31 12:21:58.269517: I tensorflow/core/grappler/optimizers/custom_graph_optimizer_registry.cc:113] Plugin optimizer for device_type GPU is enabled.\n"
     ]
    },
    {
     "name": "stdout",
     "output_type": "stream",
     "text": [
      "9/9 [==============================] - 14s 1s/step - loss: 1.2511 - accuracy: 0.3752 - val_loss: 1.0888 - val_accuracy: 0.3609\n",
      "Epoch 2/20\n",
      "9/9 [==============================] - 11s 1s/step - loss: 1.0483 - accuracy: 0.4507 - val_loss: 0.8809 - val_accuracy: 0.5940\n",
      "Epoch 3/20\n",
      "9/9 [==============================] - 12s 1s/step - loss: 0.9342 - accuracy: 0.5580 - val_loss: 0.8124 - val_accuracy: 0.6391\n",
      "Epoch 4/20\n",
      "9/9 [==============================] - 12s 1s/step - loss: 0.8759 - accuracy: 0.6044 - val_loss: 0.8927 - val_accuracy: 0.5639\n",
      "Epoch 5/20\n",
      "9/9 [==============================] - 12s 1s/step - loss: 0.8742 - accuracy: 0.5928 - val_loss: 0.8541 - val_accuracy: 0.5188\n",
      "Epoch 6/20\n",
      "9/9 [==============================] - 12s 1s/step - loss: 0.8271 - accuracy: 0.6315 - val_loss: 0.7383 - val_accuracy: 0.6767\n",
      "Epoch 7/20\n",
      "9/9 [==============================] - 12s 1s/step - loss: 0.7961 - accuracy: 0.6518 - val_loss: 0.8045 - val_accuracy: 0.5714\n",
      "Epoch 8/20\n",
      "9/9 [==============================] - 12s 1s/step - loss: 0.8314 - accuracy: 0.6325 - val_loss: 0.7842 - val_accuracy: 0.6391\n",
      "Epoch 9/20\n",
      "9/9 [==============================] - 12s 1s/step - loss: 0.7584 - accuracy: 0.6634 - val_loss: 0.7175 - val_accuracy: 0.6391\n",
      "Epoch 10/20\n",
      "9/9 [==============================] - 12s 1s/step - loss: 0.7530 - accuracy: 0.6847 - val_loss: 0.7065 - val_accuracy: 0.6992\n",
      "Epoch 11/20\n",
      "9/9 [==============================] - 12s 1s/step - loss: 0.7980 - accuracy: 0.6538 - val_loss: 0.7561 - val_accuracy: 0.6165\n",
      "Epoch 12/20\n",
      "9/9 [==============================] - 12s 1s/step - loss: 0.7519 - accuracy: 0.6634 - val_loss: 0.6440 - val_accuracy: 0.7068\n",
      "Epoch 13/20\n",
      "9/9 [==============================] - 13s 1s/step - loss: 0.6903 - accuracy: 0.7147 - val_loss: 0.6059 - val_accuracy: 0.7368\n",
      "Epoch 14/20\n",
      "9/9 [==============================] - 12s 2s/step - loss: 0.7235 - accuracy: 0.6896 - val_loss: 0.6408 - val_accuracy: 0.7143\n",
      "Epoch 15/20\n",
      "9/9 [==============================] - 13s 1s/step - loss: 0.6864 - accuracy: 0.7070 - val_loss: 0.5806 - val_accuracy: 0.7594\n",
      "Epoch 16/20\n",
      "9/9 [==============================] - 13s 1s/step - loss: 0.6747 - accuracy: 0.7253 - val_loss: 0.5996 - val_accuracy: 0.7293\n",
      "Epoch 17/20\n",
      "9/9 [==============================] - 13s 1s/step - loss: 0.6637 - accuracy: 0.7205 - val_loss: 0.5747 - val_accuracy: 0.7143\n",
      "Epoch 18/20\n",
      "9/9 [==============================] - 12s 1s/step - loss: 0.6125 - accuracy: 0.7311 - val_loss: 0.5336 - val_accuracy: 0.7444\n",
      "Epoch 19/20\n",
      "9/9 [==============================] - 13s 1s/step - loss: 0.6054 - accuracy: 0.7466 - val_loss: 0.5731 - val_accuracy: 0.7444\n",
      "Epoch 20/20\n",
      "9/9 [==============================] - 13s 1s/step - loss: 0.6657 - accuracy: 0.7002 - val_loss: 0.7168 - val_accuracy: 0.6617\n"
     ]
    }
   ],
   "source": [
    "NUM_EPOCHS = 20\n",
    "\n",
    "history = model.fit(\n",
    "      train_generator, \n",
    "      epochs = NUM_EPOCHS,\n",
    "      verbose = 1,\n",
    "      validation_data = validation_generator)"
   ]
  },
  {
   "cell_type": "code",
   "execution_count": 12,
   "id": "88feab7d",
   "metadata": {},
   "outputs": [
    {
     "data": {
      "image/png": "[encoded data removed]",
      "text/plain": [
       "<Figure size 432x288 with 1 Axes>"
      ]
     },
     "metadata": {
      "needs_background": "light"
     },
     "output_type": "display_data"
    }
   ],
   "source": [
    "# summarize history for accuracy\n",
    "\n",
    "import matplotlib.pyplot as plt\n",
    "plt.plot(history.history['accuracy'])\n",
    "plt.plot(history.history['val_accuracy'])\n",
    "plt.title('model accuracy')\n",
    "plt.ylabel('accuracy')\n",
    "plt.xlabel('epoch')\n",
    "plt.legend(['train', 'test'], loc='upper left')\n",
    "plt.xlim([0,NUM_EPOCHS])\n",
    "plt.ylim([0.4,1.0])\n",
    "plt.show()"
   ]
  },
  {
   "cell_type": "code",
   "execution_count": null,
   "id": "d179b8d8",
   "metadata": {},
   "outputs": [],
   "source": []
  }
 ],
 "metadata": {
  "kernelspec": {
   "display_name": "python 3.8 (env_tf)",
   "language": "python",
   "name": "env_tf"
  },
  "language_info": {
   "codemirror_mode": {
    "name": "ipython",
    "version": 3
   },
   "file_extension": ".py",
   "mimetype": "text/x-python",
   "name": "python",
   "nbconvert_exporter": "python",
   "pygments_lexer": "ipython3",
   "version": "3.8.13"
  }
 },
 "nbformat": 4,
 "nbformat_minor": 5
}
