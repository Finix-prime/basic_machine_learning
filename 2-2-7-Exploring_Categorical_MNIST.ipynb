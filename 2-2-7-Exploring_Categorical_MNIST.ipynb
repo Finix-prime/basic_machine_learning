{
 "cells": [
  {
   "cell_type": "markdown",
   "id": "22d6ac29",
   "metadata": {},
   "source": [
    "Start with a simple neural network for MNIST\n",
    "Note that there are 2 layers, one with 20 neurons, and one with 10.\n",
    "\n",
    "The 10-neuron layer is our final layer because we have 10 classes we want to classify.\n",
    "\n",
    "Train this, and you should see it get about 98% accuracy"
   ]
  },
  {
   "cell_type": "code",
   "execution_count": 1,
   "id": "28072f1e",
   "metadata": {},
   "outputs": [
    {
     "name": "stdout",
     "output_type": "stream",
     "text": [
      "Downloading data from https://storage.googleapis.com/tensorflow/tf-keras-datasets/mnist.npz\n",
      "11490434/11490434 [==============================] - 9s 1us/step\n",
      "Metal device set to: Apple M1\n"
     ]
    },
    {
     "name": "stderr",
     "output_type": "stream",
     "text": [
      "2022-05-28 13:21:55.004399: I tensorflow/core/common_runtime/pluggable_device/pluggable_device_factory.cc:305] Could not identify NUMA node of platform GPU ID 0, defaulting to 0. Your kernel may not have been built with NUMA support.\n",
      "2022-05-28 13:21:55.004515: I tensorflow/core/common_runtime/pluggable_device/pluggable_device_factory.cc:271] Created TensorFlow device (/job:localhost/replica:0/task:0/device:GPU:0 with 0 MB memory) -> physical PluggableDevice (device: 0, name: METAL, pci bus id: <undefined>)\n"
     ]
    },
    {
     "name": "stdout",
     "output_type": "stream",
     "text": [
      "Epoch 1/20\n"
     ]
    },
    {
     "name": "stderr",
     "output_type": "stream",
     "text": [
      "2022-05-28 13:21:55.536420: W tensorflow/core/platform/profile_utils/cpu_utils.cc:128] Failed to get CPU frequency: 0 Hz\n",
      "2022-05-28 13:21:55.644421: I tensorflow/core/grappler/optimizers/custom_graph_optimizer_registry.cc:113] Plugin optimizer for device_type GPU is enabled.\n"
     ]
    },
    {
     "name": "stdout",
     "output_type": "stream",
     "text": [
      "1863/1875 [============================>.] - ETA: 0s - loss: 0.4063 - accuracy: 0.8877"
     ]
    },
    {
     "name": "stderr",
     "output_type": "stream",
     "text": [
      "2022-05-28 13:22:04.400993: I tensorflow/core/grappler/optimizers/custom_graph_optimizer_registry.cc:113] Plugin optimizer for device_type GPU is enabled.\n"
     ]
    },
    {
     "name": "stdout",
     "output_type": "stream",
     "text": [
      "1875/1875 [==============================] - 10s 4ms/step - loss: 0.4055 - accuracy: 0.8880 - val_loss: 0.2609 - val_accuracy: 0.9213\n",
      "Epoch 2/20\n",
      "1875/1875 [==============================] - 8s 4ms/step - loss: 0.2354 - accuracy: 0.9333 - val_loss: 0.2099 - val_accuracy: 0.9392\n",
      "Epoch 3/20\n",
      "1875/1875 [==============================] - 8s 4ms/step - loss: 0.1997 - accuracy: 0.9426 - val_loss: 0.2025 - val_accuracy: 0.9405\n",
      "Epoch 4/20\n",
      "1875/1875 [==============================] - 8s 4ms/step - loss: 0.1757 - accuracy: 0.9499 - val_loss: 0.1742 - val_accuracy: 0.9473\n",
      "Epoch 5/20\n",
      "1875/1875 [==============================] - 8s 4ms/step - loss: 0.1566 - accuracy: 0.9539 - val_loss: 0.1701 - val_accuracy: 0.9486\n",
      "Epoch 6/20\n",
      "1875/1875 [==============================] - 8s 4ms/step - loss: 0.1439 - accuracy: 0.9575 - val_loss: 0.1569 - val_accuracy: 0.9533\n",
      "Epoch 7/20\n",
      "1875/1875 [==============================] - 8s 4ms/step - loss: 0.1333 - accuracy: 0.9605 - val_loss: 0.1573 - val_accuracy: 0.9547\n",
      "Epoch 8/20\n",
      "1875/1875 [==============================] - 8s 4ms/step - loss: 0.1239 - accuracy: 0.9632 - val_loss: 0.1426 - val_accuracy: 0.9574\n",
      "Epoch 9/20\n",
      "1875/1875 [==============================] - 8s 4ms/step - loss: 0.1174 - accuracy: 0.9650 - val_loss: 0.1403 - val_accuracy: 0.9578\n",
      "Epoch 10/20\n",
      "1875/1875 [==============================] - 8s 4ms/step - loss: 0.1110 - accuracy: 0.9664 - val_loss: 0.1413 - val_accuracy: 0.9574\n",
      "Epoch 11/20\n",
      "1875/1875 [==============================] - 8s 4ms/step - loss: 0.1047 - accuracy: 0.9678 - val_loss: 0.1414 - val_accuracy: 0.9588\n",
      "Epoch 12/20\n",
      "1875/1875 [==============================] - 8s 4ms/step - loss: 0.1001 - accuracy: 0.9697 - val_loss: 0.1367 - val_accuracy: 0.9608\n",
      "Epoch 13/20\n",
      "1875/1875 [==============================] - 8s 4ms/step - loss: 0.0960 - accuracy: 0.9710 - val_loss: 0.1422 - val_accuracy: 0.9582\n",
      "Epoch 14/20\n",
      "1875/1875 [==============================] - 8s 4ms/step - loss: 0.0920 - accuracy: 0.9717 - val_loss: 0.1350 - val_accuracy: 0.9612\n",
      "Epoch 15/20\n",
      "1875/1875 [==============================] - 8s 4ms/step - loss: 0.0895 - accuracy: 0.9729 - val_loss: 0.1374 - val_accuracy: 0.9595\n",
      "Epoch 16/20\n",
      "1875/1875 [==============================] - 8s 4ms/step - loss: 0.0859 - accuracy: 0.9739 - val_loss: 0.1374 - val_accuracy: 0.9600\n",
      "Epoch 17/20\n",
      "1875/1875 [==============================] - 8s 4ms/step - loss: 0.0827 - accuracy: 0.9748 - val_loss: 0.1387 - val_accuracy: 0.9580\n",
      "Epoch 18/20\n",
      "1875/1875 [==============================] - 8s 4ms/step - loss: 0.0801 - accuracy: 0.9750 - val_loss: 0.1367 - val_accuracy: 0.9595\n",
      "Epoch 19/20\n",
      "1875/1875 [==============================] - 8s 4ms/step - loss: 0.0769 - accuracy: 0.9762 - val_loss: 0.1383 - val_accuracy: 0.9616\n",
      "Epoch 20/20\n",
      "1875/1875 [==============================] - 8s 4ms/step - loss: 0.0754 - accuracy: 0.9773 - val_loss: 0.1407 - val_accuracy: 0.9599\n"
     ]
    },
    {
     "data": {
      "text/plain": [
       "<keras.callbacks.History at 0x15e86dcd0>"
      ]
     },
     "execution_count": 1,
     "metadata": {},
     "output_type": "execute_result"
    }
   ],
   "source": [
    "import tensorflow as tf\n",
    "data = tf.keras.datasets.mnist\n",
    "\n",
    "(training_images, training_labels), (val_images, val_labels) = data.load_data()\n",
    "\n",
    "training_images  = training_images / 255.0\n",
    "val_images = val_images / 255.0\n",
    "model = tf.keras.models.Sequential([tf.keras.layers.Flatten(input_shape=(28,28)),\n",
    "                                    tf.keras.layers.Dense(20, activation=tf.nn.relu),\n",
    "                                    tf.keras.layers.Dense(10, activation=tf.nn.softmax)])\n",
    "\n",
    "model.compile(optimizer='adam',\n",
    "              loss='sparse_categorical_crossentropy',\n",
    "              metrics=['accuracy'])\n",
    "\n",
    "model.fit(training_images, training_labels, epochs=20, validation_data=(val_images, val_labels))\n"
   ]
  },
  {
   "cell_type": "markdown",
   "id": "debc33a3",
   "metadata": {},
   "source": [
    "Examine the test data\n",
    "Using model.evaluate, you can get metrics for a test set. In this case we only have a training set and a validation set, so we can try it out with the validation set. The accuracy will be slightly lower, at maybe 96%. This is because the model hasn't previously seen this data and may not be fully generalized for all data. Still it's a pretty good score.\n",
    "\n",
    "You can also predict images, and compare against their actual label. The [0] image in the set is a number 7, and here you can see that neuron 7 has a 9.9e-1 (99%+) probability, so it got it right!"
   ]
  },
  {
   "cell_type": "code",
   "execution_count": 2,
   "id": "9c1d6c67",
   "metadata": {},
   "outputs": [
    {
     "name": "stdout",
     "output_type": "stream",
     "text": [
      "313/313 [==============================] - 1s 4ms/step - loss: 0.1407 - accuracy: 0.9599\n",
      " 98/313 [========>.....................] - ETA: 0s"
     ]
    },
    {
     "name": "stderr",
     "output_type": "stream",
     "text": [
      "2022-05-28 13:26:24.019891: I tensorflow/core/grappler/optimizers/custom_graph_optimizer_registry.cc:113] Plugin optimizer for device_type GPU is enabled.\n"
     ]
    },
    {
     "name": "stdout",
     "output_type": "stream",
     "text": [
      "313/313 [==============================] - 1s 2ms/step\n",
      "[2.8409621e-08 4.5419415e-10 1.2859312e-08 5.8066103e-06 6.8471471e-13\n",
      " 7.2235032e-08 3.0657736e-19 9.9999404e-01 7.5644175e-09 6.1727574e-09]\n",
      "7\n"
     ]
    }
   ],
   "source": [
    "\n",
    "model.evaluate(val_images, val_labels)\n",
    "\n",
    "classifications = model.predict(val_images)\n",
    "print(classifications[0])\n",
    "print(val_labels[0])"
   ]
  },
  {
   "cell_type": "markdown",
   "id": "34475d20",
   "metadata": {},
   "source": [
    "Modify to inspect learned values\n",
    "This code is identical, except that the layers are named prior to adding to the sequential. This allows us to inspect their learned parameters later."
   ]
  },
  {
   "cell_type": "code",
   "execution_count": 3,
   "id": "613d84d0",
   "metadata": {},
   "outputs": [
    {
     "name": "stdout",
     "output_type": "stream",
     "text": [
      "Epoch 1/20\n",
      "  41/1875 [..............................] - ETA: 7s - loss: 2.0293 - accuracy: 0.3514"
     ]
    },
    {
     "name": "stderr",
     "output_type": "stream",
     "text": [
      "2022-05-28 13:28:58.497749: I tensorflow/core/grappler/optimizers/custom_graph_optimizer_registry.cc:113] Plugin optimizer for device_type GPU is enabled.\n"
     ]
    },
    {
     "name": "stdout",
     "output_type": "stream",
     "text": [
      "1875/1875 [==============================] - 7s 4ms/step - loss: 0.4117 - accuracy: 0.8840\n",
      "Epoch 2/20\n",
      "1875/1875 [==============================] - 7s 4ms/step - loss: 0.2222 - accuracy: 0.9355\n",
      "Epoch 3/20\n",
      "1875/1875 [==============================] - 7s 4ms/step - loss: 0.1854 - accuracy: 0.9460\n",
      "Epoch 4/20\n",
      "1875/1875 [==============================] - 7s 4ms/step - loss: 0.1636 - accuracy: 0.9523\n",
      "Epoch 5/20\n",
      "1875/1875 [==============================] - 7s 4ms/step - loss: 0.1483 - accuracy: 0.9563\n",
      "Epoch 6/20\n",
      "1875/1875 [==============================] - 7s 4ms/step - loss: 0.1365 - accuracy: 0.9591\n",
      "Epoch 7/20\n",
      "1875/1875 [==============================] - 7s 4ms/step - loss: 0.1288 - accuracy: 0.9623\n",
      "Epoch 8/20\n",
      "1875/1875 [==============================] - 7s 4ms/step - loss: 0.1214 - accuracy: 0.9641\n",
      "Epoch 9/20\n",
      "1875/1875 [==============================] - 7s 4ms/step - loss: 0.1165 - accuracy: 0.9654\n",
      "Epoch 10/20\n",
      "1875/1875 [==============================] - 7s 4ms/step - loss: 0.1108 - accuracy: 0.9667\n",
      "Epoch 11/20\n",
      "1875/1875 [==============================] - 7s 4ms/step - loss: 0.1068 - accuracy: 0.9671\n",
      "Epoch 12/20\n",
      "1875/1875 [==============================] - 7s 4ms/step - loss: 0.1029 - accuracy: 0.9689\n",
      "Epoch 13/20\n",
      "1875/1875 [==============================] - 7s 4ms/step - loss: 0.0992 - accuracy: 0.9701\n",
      "Epoch 14/20\n",
      "1875/1875 [==============================] - 7s 4ms/step - loss: 0.0959 - accuracy: 0.9708\n",
      "Epoch 15/20\n",
      "1875/1875 [==============================] - 7s 4ms/step - loss: 0.0937 - accuracy: 0.9713\n",
      "Epoch 16/20\n",
      "1875/1875 [==============================] - 7s 4ms/step - loss: 0.0912 - accuracy: 0.9720\n",
      "Epoch 17/20\n",
      "1875/1875 [==============================] - 7s 4ms/step - loss: 0.0882 - accuracy: 0.9734\n",
      "Epoch 18/20\n",
      "1875/1875 [==============================] - 7s 4ms/step - loss: 0.0863 - accuracy: 0.9737\n",
      "Epoch 19/20\n",
      "1875/1875 [==============================] - 7s 4ms/step - loss: 0.0837 - accuracy: 0.9741\n",
      "Epoch 20/20\n",
      "1875/1875 [==============================] - 7s 4ms/step - loss: 0.0811 - accuracy: 0.9755\n",
      " 42/313 [===>..........................] - ETA: 1s - loss: 0.1522 - accuracy: 0.9539"
     ]
    },
    {
     "name": "stderr",
     "output_type": "stream",
     "text": [
      "2022-05-28 13:31:17.864644: I tensorflow/core/grappler/optimizers/custom_graph_optimizer_registry.cc:113] Plugin optimizer for device_type GPU is enabled.\n"
     ]
    },
    {
     "name": "stdout",
     "output_type": "stream",
     "text": [
      "313/313 [==============================] - 1s 4ms/step - loss: 0.1353 - accuracy: 0.9619\n",
      " 89/313 [=======>......................] - ETA: 0s"
     ]
    },
    {
     "name": "stderr",
     "output_type": "stream",
     "text": [
      "2022-05-28 13:31:19.047583: I tensorflow/core/grappler/optimizers/custom_graph_optimizer_registry.cc:113] Plugin optimizer for device_type GPU is enabled.\n"
     ]
    },
    {
     "name": "stdout",
     "output_type": "stream",
     "text": [
      "313/313 [==============================] - 1s 2ms/step\n",
      "[9.7408326e-10 7.7827844e-15 2.7306712e-09 4.2342121e-04 1.1847042e-15\n",
      " 7.5021359e-07 6.4388233e-14 9.9957579e-01 5.5194188e-10 7.3268758e-08]\n",
      "7\n"
     ]
    }
   ],
   "source": [
    "import tensorflow as tf\n",
    "data = tf.keras.datasets.mnist\n",
    "\n",
    "(training_images, training_labels), (val_images, val_labels) = data.load_data()\n",
    "\n",
    "training_images  = training_images / 255.0\n",
    "val_images = val_images / 255.0\n",
    "layer_1 = tf.keras.layers.Dense(20, activation=tf.nn.relu)\n",
    "layer_2 = tf.keras.layers.Dense(10, activation=tf.nn.softmax)\n",
    "model = tf.keras.models.Sequential([tf.keras.layers.Flatten(input_shape=(28,28)),\n",
    "                                    layer_1,\n",
    "                                    layer_2])\n",
    "\n",
    "model.compile(optimizer='adam',\n",
    "              loss='sparse_categorical_crossentropy',\n",
    "              metrics=['accuracy'])\n",
    "\n",
    "model.fit(training_images, training_labels, epochs=20)\n",
    "\n",
    "model.evaluate(val_images, val_labels)\n",
    "\n",
    "classifications = model.predict(val_images)\n",
    "print(classifications[0])\n",
    "print(val_labels[0])"
   ]
  },
  {
   "cell_type": "markdown",
   "id": "7403cf90",
   "metadata": {},
   "source": [
    "Inspect weights\n",
    "If you print layer_1.get_weights(), you'll see a lot of data. Let's unpack it. First, there are 2 arrays in the result, so let's look at the first one. In particular let's look at its size."
   ]
  },
  {
   "cell_type": "code",
   "execution_count": 4,
   "id": "4253df46",
   "metadata": {},
   "outputs": [
    {
     "name": "stdout",
     "output_type": "stream",
     "text": [
      "15680\n"
     ]
    }
   ],
   "source": [
    "print(layer_1.get_weights()[0].size)"
   ]
  },
  {
   "cell_type": "markdown",
   "id": "609d4997",
   "metadata": {},
   "source": [
    "The above code should print 15680. Why?\n",
    "\n",
    "Recall that there are 20 neurons in the first layer.\n",
    "\n",
    "Recall also that the images are 28x28, which is 784.\n",
    "\n",
    "If you multiply 784 x 20 you get 15680.\n",
    "\n",
    "So...this layer has 20 neurons, and each neuron learns a W parameter for each pixel. So instead of y=Mx+c, we have y=M1X1+M2X2+M3X3+....+M784X784+C in every neuron!\n",
    "\n",
    "Every pixel has a weight in every neuron. Those weights are multiplied by the pixel value, summed up, and given a bias."
   ]
  },
  {
   "cell_type": "code",
   "execution_count": 5,
   "id": "2230ecb7",
   "metadata": {},
   "outputs": [
    {
     "name": "stdout",
     "output_type": "stream",
     "text": [
      "20\n"
     ]
    }
   ],
   "source": [
    "print(layer_1.get_weights()[1].size)"
   ]
  },
  {
   "cell_type": "markdown",
   "id": "cd7c9882",
   "metadata": {},
   "source": [
    "The above code will give you 20 -- the get_weights()[1] contains the biases for each of the 20 neurons in this layer."
   ]
  },
  {
   "cell_type": "markdown",
   "id": "95809ae7",
   "metadata": {},
   "source": [
    "Inspecting layer 2\n",
    "Now let's look at layer 2. Printing the get_weights will give us 2 lists, the first a list of weights for the 10 neurons, and the second a list of biases for the 10 neurons\n",
    "\n",
    "Let's look first at the weights:\n",
    "\n"
   ]
  },
  {
   "cell_type": "code",
   "execution_count": 6,
   "id": "4e1dec0d",
   "metadata": {},
   "outputs": [
    {
     "name": "stdout",
     "output_type": "stream",
     "text": [
      "200\n"
     ]
    }
   ],
   "source": [
    "print(layer_2.get_weights()[0].size)"
   ]
  },
  {
   "cell_type": "markdown",
   "id": "6a252751",
   "metadata": {},
   "source": [
    "This should return 200. Again, consider why?\n",
    "\n",
    "There are 10 neurons in this layer, but there are 20 neurons in the previous layer. So, each neuron in this layer will learn a weight for the incoming value from the previous layer. So, for example, the if the first neuron in this layer is N21, and the neurons output from the previous layers are N11-N120, then this neuron will have 20 weights (W1-W20) and it will calculate its output to be:\n",
    "\n",
    "W1N11+W2N12+W3N13+...+W20N120+Bias\n",
    "\n",
    "So each of these weights will be learned as will the bias, for every neuron.\n",
    "\n",
    "Note that N11 refers to Layer 1 Neuron 1."
   ]
  },
  {
   "cell_type": "code",
   "execution_count": 7,
   "id": "6e8df69c",
   "metadata": {},
   "outputs": [
    {
     "name": "stdout",
     "output_type": "stream",
     "text": [
      "10\n"
     ]
    }
   ],
   "source": [
    "print(layer_2.get_weights()[1].size)"
   ]
  },
  {
   "cell_type": "markdown",
   "id": "7c8a0cce",
   "metadata": {},
   "source": [
    "...and as expected there are 10 elements in this array, representing the 10 biases for the 10 neurons.\n",
    "\n",
    "Hopefully this helps you see how the element of a simple neuron containing y=mx+c can be expanded greatly into a deep neural network, and that DNN can learn the parameters that match the 784 pixels of an image to their output!\n",
    "\n"
   ]
  }
 ],
 "metadata": {
  "kernelspec": {
   "display_name": "python 3.8 (env_tf)",
   "language": "python",
   "name": "env_tf"
  },
  "language_info": {
   "codemirror_mode": {
    "name": "ipython",
    "version": 3
   },
   "file_extension": ".py",
   "mimetype": "text/x-python",
   "name": "python",
   "nbconvert_exporter": "python",
   "pygments_lexer": "ipython3",
   "version": "3.8.13"
  }
 },
 "nbformat": 4,
 "nbformat_minor": 5
}
